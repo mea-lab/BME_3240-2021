{
 "cells": [
  {
   "attachments": {},
   "cell_type": "markdown",
   "id": "68400e76",
   "metadata": {
    "slideshow": {
     "slide_type": "slide"
    }
   },
   "source": [
    "# Jupyter Notebooks \n",
    "\n",
    "Most of the class will be based on the use of Jupyter Notebooks. Notebooks are handy in any data intensive programming task as they allow you to easily visualize your results without having to _compile_ the code. \n",
    "\n",
    "Each block in a Jupyter Notebook is call a **Cell**.\n",
    "There are two main types of cells:\n",
    "    - Code Cell\n",
    "    - Mardown Cell \n",
    "    \n",
    "## Code Cells\n",
    "These cells are used to input code, the python interpreter will try to compile these cells \n",
    "\n",
    "## Markdown Cells\n",
    "These cells are used to input text and images (similar to a word processor). They use the **Markdown** language. They are extremelly versatile and allow you organize your code + text. You can also insert images, tables, and files in a markdown cell. Simply drag and drop the image when the cell is in Markdown model. \n",
    "\n",
    "Here is a kitten :) \n",
    "![image](img.jpg)\n",
    "\n",
    "    "
   ]
  },
  {
   "cell_type": "markdown",
   "id": "b144b372",
   "metadata": {},
   "source": [
    "To execute a cell, simply press \n",
    "```\n",
    "    Shift+ Enter\n",
    "```\n",
    "\n",
    "The Markdown language is rich and offers many opportunities to create content. There is a lot of information online if you want to master. "
   ]
  },
  {
   "cell_type": "markdown",
   "id": "46e6c61f",
   "metadata": {},
   "source": [
    "# Python as a Calculator \n",
    "\n",
    "Python has the ability perform certain basic math operations. To perform more complex operations, you need to use **Python Packages**.\n",
    "\n",
    "Let us start from the most basic operations"
   ]
  },
  {
   "cell_type": "code",
   "execution_count": 4,
   "id": "5eff24d5",
   "metadata": {},
   "outputs": [
    {
     "data": {
      "text/plain": [
       "3"
      ]
     },
     "execution_count": 4,
     "metadata": {},
     "output_type": "execute_result"
    }
   ],
   "source": [
    "1 + 2"
   ]
  },
  {
   "cell_type": "markdown",
   "id": "fa130d7f",
   "metadata": {},
   "source": [
    "Note: \n",
    "If you add a **;** at the end of your statment, the cell won't print the output."
   ]
  },
  {
   "cell_type": "code",
   "execution_count": 5,
   "id": "de1abe99",
   "metadata": {},
   "outputs": [],
   "source": [
    "1 + 2;"
   ]
  },
  {
   "cell_type": "code",
   "execution_count": 6,
   "id": "2cb66e9d",
   "metadata": {},
   "outputs": [
    {
     "data": {
      "text/plain": [
       "7"
      ]
     },
     "execution_count": 6,
     "metadata": {},
     "output_type": "execute_result"
    }
   ],
   "source": [
    "1+2\n",
    "2+3\n",
    "3+4"
   ]
  },
  {
   "cell_type": "markdown",
   "id": "431fffb5",
   "metadata": {},
   "source": [
    "Note: If you have different operations in the same cell separate by a change in line, the cell will only print the result of the last operation"
   ]
  },
  {
   "cell_type": "code",
   "execution_count": 7,
   "id": "62936a61",
   "metadata": {},
   "outputs": [
    {
     "data": {
      "text/plain": [
       "(3, 5, 7)"
      ]
     },
     "execution_count": 7,
     "metadata": {},
     "output_type": "execute_result"
    }
   ],
   "source": [
    "1+2, 2+3, 3+4 "
   ]
  },
  {
   "cell_type": "markdown",
   "id": "73814daf",
   "metadata": {},
   "source": [
    "Note: If separate the operations with **,**, the cell will print all the result "
   ]
  },
  {
   "cell_type": "code",
   "execution_count": 8,
   "id": "5290d113",
   "metadata": {},
   "outputs": [
    {
     "data": {
      "text/plain": [
       "0.4"
      ]
     },
     "execution_count": 8,
     "metadata": {},
     "output_type": "execute_result"
    }
   ],
   "source": [
    "#division \n",
    "2/5\n"
   ]
  },
  {
   "cell_type": "code",
   "execution_count": 9,
   "id": "01dd2b73",
   "metadata": {},
   "outputs": [
    {
     "data": {
      "text/plain": [
       "2.0"
      ]
     },
     "execution_count": 9,
     "metadata": {},
     "output_type": "execute_result"
    }
   ],
   "source": [
    "#multiplication \n",
    "_*5"
   ]
  },
  {
   "cell_type": "code",
   "execution_count": 10,
   "id": "c06b4ab8",
   "metadata": {},
   "outputs": [
    {
     "data": {
      "text/plain": [
       "4.0"
      ]
     },
     "execution_count": 10,
     "metadata": {},
     "output_type": "execute_result"
    }
   ],
   "source": [
    "#power \n",
    "2**_"
   ]
  },
  {
   "cell_type": "markdown",
   "id": "cd4e61ca",
   "metadata": {},
   "source": [
    "Note: Jupyter carries the value of the last cell's output in a special character **_**"
   ]
  },
  {
   "cell_type": "markdown",
   "id": "dcf7ae1c",
   "metadata": {},
   "source": [
    "Let us try to compute a more complex math operation \n",
    "\n",
    "$$\n",
    "\\frac{2*6}{\\left(2^3 + \\frac{4}{5}\\right)}\n",
    "$$\n",
    "\n",
    "By the way, Jupyter notebooks can also interprete $\\LaTeX$, so that you can write comples mathematical notation here in the notebook"
   ]
  },
  {
   "cell_type": "code",
   "execution_count": 11,
   "id": "2deb8b4c",
   "metadata": {},
   "outputs": [
    {
     "data": {
      "text/plain": [
       "1.3636363636363635"
      ]
     },
     "execution_count": 11,
     "metadata": {},
     "output_type": "execute_result"
    }
   ],
   "source": [
    "(2*6)/(2**3 + (4/5))"
   ]
  },
  {
   "cell_type": "markdown",
   "id": "945df994",
   "metadata": {},
   "source": [
    "What if I want to compute a more complex operation, like\n",
    "$$\n",
    "2\\pi\\sin(\\frac{\\pi}{4})\n",
    "$$\n",
    "\n",
    "We can try that directly and see what happens "
   ]
  },
  {
   "cell_type": "code",
   "execution_count": 12,
   "id": "dbf5042d",
   "metadata": {},
   "outputs": [
    {
     "ename": "NameError",
     "evalue": "name 'pi' is not defined",
     "output_type": "error",
     "traceback": [
      "\u001b[1;31m---------------------------------------------------------------------------\u001b[0m",
      "\u001b[1;31mNameError\u001b[0m                                 Traceback (most recent call last)",
      "\u001b[1;32m<ipython-input-12-5c4d1fd913c3>\u001b[0m in \u001b[0;36m<module>\u001b[1;34m\u001b[0m\n\u001b[1;32m----> 1\u001b[1;33m \u001b[1;36m2\u001b[0m\u001b[1;33m*\u001b[0m\u001b[0mpi\u001b[0m\u001b[1;33m*\u001b[0m\u001b[0msin\u001b[0m\u001b[1;33m(\u001b[0m\u001b[0mpi\u001b[0m\u001b[1;33m/\u001b[0m\u001b[1;36m4\u001b[0m\u001b[1;33m)\u001b[0m\u001b[1;33m\u001b[0m\u001b[1;33m\u001b[0m\u001b[0m\n\u001b[0m",
      "\u001b[1;31mNameError\u001b[0m: name 'pi' is not defined"
     ]
    }
   ],
   "source": [
    "2*pi*sin(pi/4)"
   ]
  },
  {
   "cell_type": "markdown",
   "id": "00fff733",
   "metadata": {},
   "source": [
    "It is telling me that it doesn know what **pi** is. Let us use the value of pi"
   ]
  },
  {
   "cell_type": "code",
   "execution_count": 13,
   "id": "3df53d37",
   "metadata": {},
   "outputs": [
    {
     "ename": "NameError",
     "evalue": "name 'sin' is not defined",
     "output_type": "error",
     "traceback": [
      "\u001b[1;31m---------------------------------------------------------------------------\u001b[0m",
      "\u001b[1;31mNameError\u001b[0m                                 Traceback (most recent call last)",
      "\u001b[1;32m<ipython-input-13-c183c642881f>\u001b[0m in \u001b[0;36m<module>\u001b[1;34m\u001b[0m\n\u001b[1;32m----> 1\u001b[1;33m \u001b[1;36m2\u001b[0m\u001b[1;33m*\u001b[0m\u001b[1;33m(\u001b[0m\u001b[1;36m3.141516\u001b[0m\u001b[1;33m)\u001b[0m\u001b[1;33m*\u001b[0m\u001b[0msin\u001b[0m\u001b[1;33m(\u001b[0m\u001b[1;33m(\u001b[0m\u001b[1;36m3.141516\u001b[0m\u001b[1;33m)\u001b[0m\u001b[1;33m/\u001b[0m\u001b[1;36m4\u001b[0m\u001b[1;33m)\u001b[0m\u001b[1;33m\u001b[0m\u001b[1;33m\u001b[0m\u001b[0m\n\u001b[0m",
      "\u001b[1;31mNameError\u001b[0m: name 'sin' is not defined"
     ]
    }
   ],
   "source": [
    "2*(3.141516)*sin((3.141516)/4)"
   ]
  },
  {
   "cell_type": "markdown",
   "id": "a19115f4",
   "metadata": {},
   "source": [
    "Now is telling me that it doesn know what **sin** is. \n",
    "\n",
    "## Python doesn't know math beyond basic operations \n",
    "\n",
    "We need to use **Packages** which are basically pieces of code that someone else created so solve specific problems. We will use the \n",
    "```\n",
    "math\n",
    "```\n",
    " package to do complex math operations"
   ]
  },
  {
   "cell_type": "code",
   "execution_count": 14,
   "id": "a83f9817",
   "metadata": {},
   "outputs": [],
   "source": [
    "import math"
   ]
  },
  {
   "cell_type": "code",
   "execution_count": 16,
   "id": "2afa215a",
   "metadata": {},
   "outputs": [
    {
     "data": {
      "text/plain": [
       "4.442882938158366"
      ]
     },
     "execution_count": 16,
     "metadata": {},
     "output_type": "execute_result"
    }
   ],
   "source": [
    "2*(math.pi)*math.sin((math.pi)/4)"
   ]
  },
  {
   "cell_type": "markdown",
   "id": "74331620",
   "metadata": {},
   "source": [
    "The math package provides access to many common mathematical operations. You can access those operations by using the dot notation\n",
    "\n",
    "``` python\n",
    "\n",
    "math.TheNameofTheOperation\n",
    "\n",
    "```\n",
    "\n",
    "To know which operations are avaliable in the math package, simple press **Tab** after the dot and you will see a list of available functions. \n",
    "\n",
    "To learn more about a specific function, you can use the **?** notation\n",
    "\n",
    "``` python\n",
    "\n",
    "math.sin?\n",
    "\n",
    "```\n",
    "\n",
    "Using the **?** notation will open the documentation of the function. \n",
    "\n",
    "\n",
    "\n",
    "You could also import a single function from the package. That way, you avoid using more memory that you need\n",
    "``` python\n",
    "\n",
    "from math import sin, pi\n",
    "2*(pi)*sin((pi)/4)\n",
    "\n",
    "```"
   ]
  },
  {
   "cell_type": "code",
   "execution_count": 23,
   "id": "66a87123",
   "metadata": {},
   "outputs": [
    {
     "data": {
      "text/plain": [
       "4.0"
      ]
     },
     "execution_count": 23,
     "metadata": {},
     "output_type": "execute_result"
    }
   ],
   "source": [
    "#square root\n",
    "math.sqrt(16)"
   ]
  },
  {
   "cell_type": "code",
   "execution_count": 26,
   "id": "9870d44f",
   "metadata": {},
   "outputs": [
    {
     "data": {
      "text/plain": [
       "(1.0, 1.0, 1.0)"
      ]
     },
     "execution_count": 26,
     "metadata": {},
     "output_type": "execute_result"
    }
   ],
   "source": [
    "#logarith\n",
    "math.log10(10), math.log(math.e), math.log2(2)"
   ]
  },
  {
   "cell_type": "code",
   "execution_count": 31,
   "id": "a2dc860b",
   "metadata": {},
   "outputs": [
    {
     "data": {
      "text/plain": [
       "2.718281828459045"
      ]
     },
     "execution_count": 31,
     "metadata": {},
     "output_type": "execute_result"
    }
   ],
   "source": [
    "#Exponent\n",
    "math.exp(math.log(math.e))"
   ]
  },
  {
   "cell_type": "markdown",
   "id": "705dd41f",
   "metadata": {},
   "source": [
    "$$\n",
    "\\huge{e^{log_{e}(e)} = e^{1} = e }\n",
    "$$"
   ]
  },
  {
   "cell_type": "markdown",
   "id": "8462444d",
   "metadata": {},
   "source": [
    "Python can also handle complex numbers and operations "
   ]
  },
  {
   "cell_type": "code",
   "execution_count": 33,
   "id": "092cfe0a",
   "metadata": {},
   "outputs": [
    {
     "data": {
      "text/plain": [
       "(3+5j)"
      ]
     },
     "execution_count": 33,
     "metadata": {},
     "output_type": "execute_result"
    }
   ],
   "source": [
    "3+5j"
   ]
  },
  {
   "cell_type": "code",
   "execution_count": 34,
   "id": "8150b1f4",
   "metadata": {},
   "outputs": [
    {
     "data": {
      "text/plain": [
       "complex"
      ]
     },
     "execution_count": 34,
     "metadata": {},
     "output_type": "execute_result"
    }
   ],
   "source": [
    "type(3+5j)"
   ]
  },
  {
   "cell_type": "code",
   "execution_count": 36,
   "id": "dac71cea",
   "metadata": {},
   "outputs": [],
   "source": [
    "(3+5j) + (4+6j);"
   ]
  },
  {
   "cell_type": "markdown",
   "id": "9dfa7f48",
   "metadata": {},
   "source": [
    "The \n",
    "```\n",
    "type\n",
    "```\n",
    "keyword can tell you what type of variable is being analized."
   ]
  },
  {
   "cell_type": "code",
   "execution_count": 40,
   "id": "5daed166",
   "metadata": {},
   "outputs": [],
   "source": [
    "type(3), type(math.pi), type(4+1j);"
   ]
  }
 ],
 "metadata": {
  "kernelspec": {
   "display_name": "Python 3",
   "language": "python",
   "name": "python3"
  },
  "language_info": {
   "codemirror_mode": {
    "name": "ipython",
    "version": 3
   },
   "file_extension": ".py",
   "mimetype": "text/x-python",
   "name": "python",
   "nbconvert_exporter": "python",
   "pygments_lexer": "ipython3",
   "version": "3.8.3"
  }
 },
 "nbformat": 4,
 "nbformat_minor": 5
}
